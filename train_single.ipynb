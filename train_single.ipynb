{
 "cells": [
  {
   "cell_type": "code",
   "execution_count": 57,
   "metadata": {},
   "outputs": [],
   "source": [
    "#import module for multimodal model for air pollution\n",
    "from models.multimodal_model import PMModel\n",
    "# import the module to create the multiModal dataset\n",
    "from models.data_loader import AirPollutionDataset\n",
    "from torch.utils.data import DataLoader\n",
    "import torch\n",
    "# ramdomsplit is used to divide the dataset as train test split\n",
    "from torch.utils.data import random_split\n",
    "from torch import nn\n",
    "from torch import optim \n",
    "from torchvision import  transforms\n",
    "from torch import random\n",
    "from torch.optim.lr_scheduler import StepLR\n",
    "from sklearn.metrics import r2_score, mean_absolute_error, mean_squared_error\n",
    "from matplotlib import pyplot as plt\n"
   ]
  },
  {
   "cell_type": "code",
   "execution_count": 58,
   "metadata": {},
   "outputs": [
    {
     "data": {
      "text/plain": [
       "'cpu'"
      ]
     },
     "execution_count": 58,
     "metadata": {},
     "output_type": "execute_result"
    }
   ],
   "source": [
    "if torch.cuda.is_available(): \n",
    " device = \"cuda\" \n",
    "else: \n",
    " device = \"cpu\"\n",
    "device"
   ]
  },
  {
   "cell_type": "code",
   "execution_count": 59,
   "metadata": {},
   "outputs": [],
   "source": [
    "import numpy as np\n",
    "seed = 42\n",
    "torch.manual_seed(seed)\n",
    "torch.backends.cudnn.deterministic = True  # For CUDA (GPU) reproducibility\n",
    "torch.backends.cudnn.benchmark = False    # Disabling this may improve reproducibility"
   ]
  },
  {
   "cell_type": "code",
   "execution_count": 60,
   "metadata": {},
   "outputs": [],
   "source": [
    "#transforms\n",
    "transform =transforms.Compose([\n",
    "        #transforms.CenterCrop(10),\n",
    "        transforms.Resize((224,224)),\n",
    "        transforms.PILToTensor()\n",
    "\n",
    "        #transforms.ConvertImageDtype(torch.float)\n",
    "        ]\n",
    ")\n"
   ]
  },
  {
   "cell_type": "code",
   "execution_count": 61,
   "metadata": {},
   "outputs": [],
   "source": [
    "# create the mulyimodal dataset\n",
    "images_dir='data_dir'\n",
    "csv_file='multimodal_dataset.csv'\n",
    "\n",
    "\n",
    "#transform = transforms.Resize(output_size)\n",
    "dataset = AirPollutionDataset(images_dir,csv_file,transform=transform)\n"
   ]
  },
  {
   "cell_type": "code",
   "execution_count": 62,
   "metadata": {},
   "outputs": [],
   "source": [
    "class LinearRegressionModel(nn.Module):\n",
    " \n",
    "    def __init__(self):\n",
    "        super(LinearRegressionModel, self).__init__()\n",
    "        self.linear = torch.nn.Linear(5, 1)  # One in and one out\n",
    " \n",
    "    def forward(self, x):\n",
    "        y_pred = self.linear(x)\n",
    "        return y_pred"
   ]
  },
  {
   "cell_type": "code",
   "execution_count": null,
   "metadata": {},
   "outputs": [],
   "source": []
  },
  {
   "cell_type": "code",
   "execution_count": 63,
   "metadata": {},
   "outputs": [
    {
     "name": "stdout",
     "output_type": "stream",
     "text": [
      "56\n",
      "7\n",
      "8\n"
     ]
    }
   ],
   "source": [
    "# creation of the dataloader\n",
    "# Define the proportions for train, validation, and test sets\n",
    "train_ratio = 0.8# 80% for training\n",
    "val_ratio = 0.1# 10% for validation\n",
    "test_ratio = 0.1 # 10% for testing\n",
    "\n",
    "# Calculate the lengths of each split\n",
    "total_samples = len(dataset)\n",
    "train_size = int(train_ratio * total_samples)\n",
    "val_size = int(val_ratio * total_samples)\n",
    "test_size = total_samples - train_size - val_size\n",
    "\n",
    "# Use random_split to create the splits\n",
    "train_set, val_set, test_set = random_split(dataset, [train_size, val_size, test_size])\n",
    "\n",
    "# Create DataLoader instances for each split\n",
    "batch_size = 4\n",
    "train_loader = DataLoader(train_set, batch_size=batch_size, shuffle=True)\n",
    "val_loader = DataLoader(val_set, batch_size=batch_size, shuffle=False)\n",
    "test_loader = DataLoader(test_set, batch_size=batch_size, shuffle=False)\n",
    "print(len(train_loader))\n",
    "print(len(val_loader))\n",
    "print(len(test_loader))"
   ]
  },
  {
   "cell_type": "code",
   "execution_count": 64,
   "metadata": {},
   "outputs": [],
   "source": [
    "# Instantiate your model\n",
    "model =LinearRegressionModel()\n",
    "\n",
    "# Define loss function and optimizer\n",
    "l2_lambda = 0.1\n",
    "criterion = nn.MSELoss()  # For example, you can change this based on your task\n",
    "optimizer = torch.optim.Adam(model.parameters(), lr=0.0001)\n"
   ]
  },
  {
   "cell_type": "code",
   "execution_count": 65,
   "metadata": {},
   "outputs": [
    {
     "name": "stdout",
     "output_type": "stream",
     "text": [
      "Epoch [1/100] - Train loss : 2597.267333984375  - Val Loss: 1411.099853515625  - Rsquare:-127.51217613660629\n",
      "Epoch [2/100] - Train loss : 2171.06884765625  - Val Loss: 1375.1407470703125  - Rsquare:-127.2169865331171\n",
      "Epoch [3/100] - Train loss : 2160.43017578125  - Val Loss: 1340.8211669921875  - Rsquare:-126.9179828822334\n",
      "Epoch [4/100] - Train loss : 2097.531494140625  - Val Loss: 1306.072998046875  - Rsquare:-126.62309155568167\n",
      "Epoch [5/100] - Train loss : 2055.99951171875  - Val Loss: 1272.6038818359375  - Rsquare:-126.33162485772498\n",
      "Epoch [6/100] - Train loss : 2025.2705078125  - Val Loss: 1238.9708251953125  - Rsquare:-126.04438939670145\n",
      "Epoch [7/100] - Train loss : 1991.4156494140625  - Val Loss: 1206.4334716796875  - Rsquare:-125.7472309682173\n",
      "Epoch [8/100] - Train loss : 1943.912841796875  - Val Loss: 1173.3948974609375  - Rsquare:-125.4611610110063\n",
      "Epoch [9/100] - Train loss : 1904.3067626953125  - Val Loss: 1141.9395751953125  - Rsquare:-125.17226843252797\n",
      "Epoch [10/100] - Train loss : 1876.341796875  - Val Loss: 1110.8905029296875  - Rsquare:-124.88140659334282\n",
      "Epoch [11/100] - Train loss : 1836.6507568359375  - Val Loss: 1080.3411865234375  - Rsquare:-124.60820995712804\n",
      "Epoch [12/100] - Train loss : 1925.94921875  - Val Loss: 1051.0704345703125  - Rsquare:-124.31990034781565\n",
      "Epoch [13/100] - Train loss : 1990.244384765625  - Val Loss: 1020.4031372070312  - Rsquare:-124.03219792173128\n",
      "Epoch [14/100] - Train loss : 1730.6016845703125  - Val Loss: 991.4199829101562  - Rsquare:-123.73580400872277\n",
      "Epoch [15/100] - Train loss : 1699.704345703125  - Val Loss: 963.2591552734375  - Rsquare:-123.45327589906206\n",
      "Epoch [16/100] - Train loss : 1840.8302001953125  - Val Loss: 936.06640625  - Rsquare:-123.18888378633574\n",
      "Epoch [17/100] - Train loss : 1638.104248046875  - Val Loss: 908.6748046875  - Rsquare:-122.90574547282127\n",
      "Epoch [18/100] - Train loss : 1611.8770751953125  - Val Loss: 882.4035034179688  - Rsquare:-122.63021639690953\n",
      "Epoch [19/100] - Train loss : 1576.2633056640625  - Val Loss: 856.5070190429688  - Rsquare:-122.37668861833285\n",
      "Epoch [20/100] - Train loss : 1543.4825439453125  - Val Loss: 831.9581298828125  - Rsquare:-122.12341259043957\n",
      "Epoch [21/100] - Train loss : 1516.799072265625  - Val Loss: 807.5053100585938  - Rsquare:-121.85248030254029\n",
      "Epoch [22/100] - Train loss : 1488.4072265625  - Val Loss: 783.6624145507812  - Rsquare:-121.59158050294629\n",
      "Epoch [23/100] - Train loss : 1462.9735107421875  - Val Loss: 760.4705810546875  - Rsquare:-121.33600529645705\n",
      "Epoch [24/100] - Train loss : 1444.0364990234375  - Val Loss: 737.2801513671875  - Rsquare:-121.07721667990901\n",
      "Epoch [25/100] - Train loss : 1407.6295166015625  - Val Loss: 714.9909057617188  - Rsquare:-120.83829979052311\n",
      "Epoch [26/100] - Train loss : 1379.3856201171875  - Val Loss: 693.4826049804688  - Rsquare:-120.60272162660078\n",
      "Epoch [27/100] - Train loss : 1355.9874267578125  - Val Loss: 671.5966796875  - Rsquare:-120.33447535812869\n",
      "Epoch [28/100] - Train loss : 1329.457275390625  - Val Loss: 650.8641967773438  - Rsquare:-120.09250947524613\n",
      "Epoch [29/100] - Train loss : 1306.8863525390625  - Val Loss: 630.4503784179688  - Rsquare:-119.84428674561939\n",
      "Epoch [30/100] - Train loss : 1280.1097412109375  - Val Loss: 610.6803588867188  - Rsquare:-119.60601432296018\n",
      "Epoch [31/100] - Train loss : 1266.8592529296875  - Val Loss: 591.1705322265625  - Rsquare:-119.36590547819014\n",
      "Epoch [32/100] - Train loss : 1235.9930419921875  - Val Loss: 572.2413940429688  - Rsquare:-119.13679697400944\n",
      "Epoch [33/100] - Train loss : 1215.377685546875  - Val Loss: 553.708251953125  - Rsquare:-118.90765894998887\n",
      "Epoch [34/100] - Train loss : 1189.6346435546875  - Val Loss: 535.3589477539062  - Rsquare:-118.6632478506349\n",
      "Epoch [35/100] - Train loss : 1169.22705078125  - Val Loss: 518.0332641601562  - Rsquare:-118.46014738069053\n",
      "Epoch [36/100] - Train loss : 1145.564453125  - Val Loss: 500.55389404296875  - Rsquare:-118.23438304769137\n",
      "Epoch [37/100] - Train loss : 1128.00048828125  - Val Loss: 484.3679504394531  - Rsquare:-118.02696173810341\n",
      "Epoch [38/100] - Train loss : 1107.553955078125  - Val Loss: 467.7992858886719  - Rsquare:-117.82073151108042\n",
      "Epoch [39/100] - Train loss : 1085.5130615234375  - Val Loss: 451.6611022949219  - Rsquare:-117.60359243543535\n",
      "Epoch [40/100] - Train loss : 1066.941650390625  - Val Loss: 436.34490966796875  - Rsquare:-117.39864791368394\n",
      "Epoch [41/100] - Train loss : 1170.141357421875  - Val Loss: 421.32177734375  - Rsquare:-117.19808056983618\n",
      "Epoch [42/100] - Train loss : 1028.7232666015625  - Val Loss: 406.0458984375  - Rsquare:-117.0005929938829\n",
      "Epoch [43/100] - Train loss : 1012.5491333007812  - Val Loss: 391.9648742675781  - Rsquare:-116.81950504131801\n",
      "Epoch [44/100] - Train loss : 998.0755615234375  - Val Loss: 378.037841796875  - Rsquare:-116.63532127989605\n",
      "Epoch [45/100] - Train loss : 977.4042358398438  - Val Loss: 364.31988525390625  - Rsquare:-116.4640679653094\n",
      "Epoch [46/100] - Train loss : 960.1812744140625  - Val Loss: 351.67266845703125  - Rsquare:-116.2968189264961\n",
      "Epoch [47/100] - Train loss : 942.8485717773438  - Val Loss: 339.4056701660156  - Rsquare:-116.15271179656592\n",
      "Epoch [48/100] - Train loss : 929.4993286132812  - Val Loss: 326.5388488769531  - Rsquare:-115.97967761119138\n",
      "Epoch [49/100] - Train loss : 912.0682983398438  - Val Loss: 314.9342956542969  - Rsquare:-115.8300140986737\n",
      "Epoch [50/100] - Train loss : 900.0065307617188  - Val Loss: 303.3237609863281  - Rsquare:-115.6996705877614\n",
      "Epoch [51/100] - Train loss : 892.9854736328125  - Val Loss: 292.2196044921875  - Rsquare:-115.56966796490967\n",
      "Epoch [52/100] - Train loss : 867.59033203125  - Val Loss: 281.2755432128906  - Rsquare:-115.42922185016427\n",
      "Epoch [53/100] - Train loss : 853.6328125  - Val Loss: 270.5197448730469  - Rsquare:-115.30216675816966\n",
      "Epoch [54/100] - Train loss : 840.5191040039062  - Val Loss: 260.7287902832031  - Rsquare:-115.21576115533257\n",
      "Epoch [55/100] - Train loss : 828.9910888671875  - Val Loss: 250.9097900390625  - Rsquare:-115.10830723000596\n",
      "Epoch [56/100] - Train loss : 815.0513305664062  - Val Loss: 241.28562927246094  - Rsquare:-115.039540485881\n",
      "Epoch [57/100] - Train loss : 804.9409790039062  - Val Loss: 232.2984161376953  - Rsquare:-114.97558842054636\n",
      "Epoch [58/100] - Train loss : 792.6433715820312  - Val Loss: 223.47291564941406  - Rsquare:-114.89809126364675\n",
      "Epoch [59/100] - Train loss : 777.7507934570312  - Val Loss: 214.81932067871094  - Rsquare:-114.86939985738852\n",
      "Epoch [60/100] - Train loss : 765.9235229492188  - Val Loss: 206.80087280273438  - Rsquare:-114.84632201493727\n",
      "Epoch [61/100] - Train loss : 754.5840454101562  - Val Loss: 198.9124755859375  - Rsquare:-114.8533917015239\n",
      "Epoch [62/100] - Train loss : 744.3648681640625  - Val Loss: 191.3944854736328  - Rsquare:-114.84260082936893\n",
      "Epoch [63/100] - Train loss : 733.4440307617188  - Val Loss: 184.16757202148438  - Rsquare:-114.88266736740653\n",
      "Epoch [64/100] - Train loss : 724.5654296875  - Val Loss: 177.38951110839844  - Rsquare:-114.91772740713274\n",
      "Epoch [65/100] - Train loss : 713.4013061523438  - Val Loss: 170.5795135498047  - Rsquare:-115.04675823288161\n",
      "Epoch [66/100] - Train loss : 704.3282470703125  - Val Loss: 164.1876220703125  - Rsquare:-115.13711117856504\n",
      "Epoch [67/100] - Train loss : 694.9922485351562  - Val Loss: 157.91140747070312  - Rsquare:-115.27694995909062\n",
      "Epoch [68/100] - Train loss : 686.302734375  - Val Loss: 152.2681427001953  - Rsquare:-115.47406211391204\n",
      "Epoch [69/100] - Train loss : 678.2574462890625  - Val Loss: 146.6719207763672  - Rsquare:-115.70533527557771\n",
      "Epoch [70/100] - Train loss : 671.5802612304688  - Val Loss: 141.14486694335938  - Rsquare:-115.97125622096198\n",
      "Epoch [71/100] - Train loss : 681.1130981445312  - Val Loss: 136.27487182617188  - Rsquare:-116.29486956210123\n",
      "Epoch [72/100] - Train loss : 653.26318359375  - Val Loss: 130.91246032714844  - Rsquare:-116.71685574549842\n",
      "Epoch [73/100] - Train loss : 646.6752319335938  - Val Loss: 126.45392608642578  - Rsquare:-117.17511951450406\n",
      "Epoch [74/100] - Train loss : 638.6530151367188  - Val Loss: 121.92224884033203  - Rsquare:-117.7805770649068\n",
      "Epoch [75/100] - Train loss : 632.0242919921875  - Val Loss: 117.99773406982422  - Rsquare:-118.43842057033659\n",
      "Epoch [76/100] - Train loss : 625.14306640625  - Val Loss: 113.99710845947266  - Rsquare:-119.23107698831275\n",
      "Epoch [77/100] - Train loss : 622.4533081054688  - Val Loss: 110.25535583496094  - Rsquare:-120.17453246974732\n",
      "Epoch [78/100] - Train loss : 612.4987182617188  - Val Loss: 106.93462371826172  - Rsquare:-121.19216204469808\n",
      "Epoch [79/100] - Train loss : 606.53076171875  - Val Loss: 103.66216278076172  - Rsquare:-122.53210685420382\n",
      "Epoch [80/100] - Train loss : 602.4122314453125  - Val Loss: 100.39337921142578  - Rsquare:-123.99313645737018\n",
      "Epoch [81/100] - Train loss : 597.69775390625  - Val Loss: 97.55358123779297  - Rsquare:-125.61240443470786\n",
      "Epoch [82/100] - Train loss : 590.3795776367188  - Val Loss: 94.6791000366211  - Rsquare:-127.67007307542735\n",
      "Epoch [83/100] - Train loss : 584.984619140625  - Val Loss: 92.33712005615234  - Rsquare:-129.742873816214\n",
      "Epoch [84/100] - Train loss : 581.1207275390625  - Val Loss: 89.7674560546875  - Rsquare:-132.48851146095652\n",
      "Epoch [85/100] - Train loss : 739.4873046875  - Val Loss: 87.65113830566406  - Rsquare:-135.33537368417902\n",
      "Epoch [86/100] - Train loss : 570.8170776367188  - Val Loss: 85.38194274902344  - Rsquare:-138.91418592953144\n",
      "Epoch [87/100] - Train loss : 594.0499267578125  - Val Loss: 83.58821105957031  - Rsquare:-142.6833585215808\n",
      "Epoch [88/100] - Train loss : 562.4860229492188  - Val Loss: 81.73217010498047  - Rsquare:-147.52769068345853\n",
      "Epoch [89/100] - Train loss : 558.7069702148438  - Val Loss: 80.1650619506836  - Rsquare:-152.5382167519685\n",
      "Epoch [90/100] - Train loss : 555.1766967773438  - Val Loss: 78.73975372314453  - Rsquare:-158.15399998531205\n",
      "Epoch [91/100] - Train loss : 552.1088256835938  - Val Loss: 77.47257232666016  - Rsquare:-164.35966470496902\n",
      "Epoch [92/100] - Train loss : 548.7665405273438  - Val Loss: 76.42748260498047  - Rsquare:-170.61216466290168\n",
      "Epoch [93/100] - Train loss : 545.623779296875  - Val Loss: 75.30668640136719  - Rsquare:-178.95039636225746\n",
      "Epoch [94/100] - Train loss : 543.0594482421875  - Val Loss: 74.38394927978516  - Rsquare:-187.57185340290087\n",
      "Epoch [95/100] - Train loss : 540.0593872070312  - Val Loss: 73.5240707397461  - Rsquare:-197.80871971201978\n",
      "Epoch [96/100] - Train loss : 537.0841064453125  - Val Loss: 72.79607391357422  - Rsquare:-208.65851872414564\n",
      "Epoch [97/100] - Train loss : 534.57763671875  - Val Loss: 72.22093200683594  - Rsquare:-219.50244968395228\n",
      "Epoch [98/100] - Train loss : 532.2437133789062  - Val Loss: 71.63694763183594  - Rsquare:-233.85626462358462\n",
      "Epoch [99/100] - Train loss : 531.5831909179688  - Val Loss: 71.22821807861328  - Rsquare:-246.86845429469022\n",
      "Epoch [100/100] - Train loss : 528.9592895507812  - Val Loss: 70.85616302490234  - Rsquare:-262.52549263864046\n"
     ]
    }
   ],
   "source": [
    "# Training loop\n",
    "num_epochs =100\n",
    "\n",
    "val_losses=[]\n",
    "train_losses=[]\n",
    "for epoch in range(num_epochs):\n",
    "    model.train()\n",
    "    avg_trainloss=0.0\n",
    "    total_train_loss=0.0\n",
    "    for batch_data in train_loader:\n",
    "       # print(len(batch_data))\n",
    "        S5no2,S5so2,tabular,labels=batch_data\n",
    "        S5no2=S5no2.float().to(device)\n",
    "        S5so2=S5so2.float().to(device)\n",
    "        tabular=tabular.float().to(device)\n",
    "        labels=labels.float().reshape(-1,1).to(device)\n",
    "        #print(S5no2.shape)\n",
    "        #print(tabular)\n",
    "        \n",
    "        \n",
    "        optimizer.zero_grad()\n",
    "      \n",
    "        outputs = model(tabular).float()\n",
    "        #l2_loss = sum(p.norm(2) for p in model.parameters())\n",
    "        loss = criterion(outputs, labels)\n",
    "        #loss = loss + l2_lambda * l2_loss\n",
    "        total_train_loss+=loss\n",
    "        \n",
    "        #loss = criterion(outputs, labels)\n",
    "        loss.backward()\n",
    "        optimizer.step()\n",
    "    avg_trainloss=total_train_loss/len(train_loader)\n",
    "       \n",
    "    \n",
    "    # Validation\n",
    "    model.eval()\n",
    "    with torch.no_grad():\n",
    "        val_loss = 0.0\n",
    "        val_r=0.0\n",
    "        for batch_data in val_loader:\n",
    "            #print(len(batch_data))\n",
    "            S5no2,S5so2,tabular,labels=batch_data \n",
    "            S5no2=S5no2.float().to(device)\n",
    "            S5so2=S5so2.float().to(device)\n",
    "            tabular=tabular.float().to(device)\n",
    "            labels=labels.float().reshape(-1,1).to(device)\n",
    "            outputs = model(tabular)\n",
    "            val_loss += criterion(outputs, labels)\n",
    "            val_r+= r2_score(outputs.cpu(),labels.cpu())\n",
    "            \n",
    "        average_val_loss = val_loss / len(val_loader)\n",
    "        average_val_r=val_r/len(val_loader)\n",
    "        \n",
    "        val_losses.append(average_val_loss.item())\n",
    "        train_losses.append(avg_trainloss.item())\n",
    "        torch.save(model.state_dict(), f'models/checkpoints/cnn_backbone/model_epoch_{epoch+1}.pth')\n",
    "        \n",
    "    print(f\"Epoch [{epoch+1}/{num_epochs}] - Train loss : {avg_trainloss}  - Val Loss: {average_val_loss.item()}  - Rsquare:{average_val_r}\")\n"
   ]
  },
  {
   "cell_type": "code",
   "execution_count": 66,
   "metadata": {},
   "outputs": [
    {
     "data": {
      "image/png": "[encoded data removed]",
      "text/plain": [
       "<Figure size 640x480 with 1 Axes>"
      ]
     },
     "metadata": {},
     "output_type": "display_data"
    }
   ],
   "source": [
    "#plt.plot(val_losses)\n",
    "import numpy as np\n",
    "#print(val_losses)\n",
    "plt.plot(np.arange(len(train_losses)),train_losses,'b')\n",
    "plt.plot(np.arange(len(train_losses)),val_losses,'r')\n",
    "plt.show()"
   ]
  },
  {
   "cell_type": "code",
   "execution_count": 67,
   "metadata": {},
   "outputs": [],
   "source": [
    "torch.save(model.state_dict(), f'models/checkpoints/regression/model_regression.pth')"
   ]
  },
  {
   "cell_type": "code",
   "execution_count": 69,
   "metadata": {},
   "outputs": [
    {
     "name": "stdout",
     "output_type": "stream",
     "text": [
      "R-squared score: -0.0841\n",
      "MSE: 148.5221\n",
      "RMSE: 12.1870\n",
      "MAE: 5.6075\n"
     ]
    }
   ],
   "source": [
    "from sklearn.metrics import r2_score, mean_absolute_error,mean_squared_error,median_absolute_error\n",
    "model.eval()\n",
    "\n",
    "# Make predictions on the test set\n",
    "y_true = []\n",
    "y_pred = []\n",
    "\n",
    "with torch.no_grad():\n",
    "    for batch_data in test_loader:\n",
    "        S5no2,S5so2,tabular,labels=batch_data \n",
    "        S5no2=S5no2.float().to(device)\n",
    "        S5so2=S5so2.float().to(device)\n",
    "        tabular=tabular.float().to(device)\n",
    "        labels=labels.float().reshape(-1,1).to(device)\n",
    "        outputs = model(tabular)\n",
    "        y_true.extend(labels.numpy())\n",
    "        y_pred.extend(outputs.numpy())\n",
    "\n",
    "# Calculate R-squared score\n",
    "r2 = r2_score(y_true, y_pred)\n",
    "mse=mean_squared_error(y_true,y_pred)\n",
    "mae=mean_absolute_error(y_true,y_pred)\n",
    "rmse=mean_squared_error(y_true,y_pred)**0.5\n",
    "\n",
    "print(f\"R-squared score: {r2:.4f}\")\n",
    "print(f\"MSE: {mse:.4f}\")\n",
    "print(f\"RMSE: {rmse:.4f}\")\n",
    "print(f\"MAE: {mae:.4f}\")"
   ]
  }
 ],
 "metadata": {
  "kernelspec": {
   "display_name": "base",
   "language": "python",
   "name": "python3"
  },
  "language_info": {
   "codemirror_mode": {
    "name": "ipython",
    "version": 3
   },
   "file_extension": ".py",
   "mimetype": "text/x-python",
   "name": "python",
   "nbconvert_exporter": "python",
   "pygments_lexer": "ipython3",
   "version": "3.10.9"
  },
  "orig_nbformat": 4,
  "vscode": {
   "interpreter": {
    "hash": "7a2fac7082c9fd197cae6c34e59831c2d1cabe6936d70c69517db7d424f3e7ae"
   }
  }
 },
 "nbformat": 4,
 "nbformat_minor": 2
}
